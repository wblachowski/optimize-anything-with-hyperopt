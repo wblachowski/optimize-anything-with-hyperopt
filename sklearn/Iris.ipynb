{
 "cells": [
  {
   "cell_type": "code",
   "execution_count": 3,
   "metadata": {},
   "outputs": [],
   "source": [
    "from hpsklearn import HyperoptEstimator\n",
    "from hyperopt import tpe\n",
    "from sklearn.datasets import load_iris\n",
    "from sklearn.model_selection import train_test_split"
   ]
  },
  {
   "cell_type": "code",
   "execution_count": 4,
   "metadata": {},
   "outputs": [
    {
     "name": "stdout",
     "output_type": "stream",
     "text": [
      "100%|██████████| 1/1 [00:03<00:00,  3.36s/trial, best loss: 0.375]\n",
      "100%|██████████| 2/2 [00:02<00:00,  2.54s/trial, best loss: 0.375]\n",
      "100%|██████████| 3/3 [00:02<00:00,  2.52s/trial, best loss: 0.125]\n",
      "100%|██████████| 4/4 [00:02<00:00,  2.59s/trial, best loss: 0.125]\n",
      "100%|██████████| 5/5 [00:02<00:00,  2.59s/trial, best loss: 0.125]\n",
      "100%|██████████| 6/6 [00:02<00:00,  2.51s/trial, best loss: 0.04166666666666663]\n",
      "100%|██████████| 7/7 [00:02<00:00,  2.60s/trial, best loss: 0.04166666666666663]\n",
      "100%|██████████| 8/8 [00:02<00:00,  2.39s/trial, best loss: 0.04166666666666663]\n",
      "100%|██████████| 9/9 [00:02<00:00,  2.55s/trial, best loss: 0.04166666666666663]\n",
      "100%|██████████| 10/10 [00:07<00:00,  7.27s/trial, best loss: 0.04166666666666663]\n",
      "Accuracy of the best model: 0.9333333333333333\n",
      "Details of the best model:\n",
      "{'learner': KNeighborsClassifier(metric='euclidean', n_jobs=1, n_neighbors=1,\n",
      "                     weights='distance'), 'preprocs': (Normalizer(norm='l1'),), 'ex_preprocs': ()}\n"
     ]
    }
   ],
   "source": [
    "#Loading the data:\n",
    "X, y = load_iris(return_X_y=True)\n",
    "X_train, X_test, y_train, y_test = train_test_split(X, y, test_size=0.2, random_state=123)\n",
    "\n",
    "#Defining and training the estimator:\n",
    "estim = HyperoptEstimator(algo=tpe.suggest, max_evals=10, trial_timeout=60)\n",
    "estim.fit( X_train, y_train )\n",
    "\n",
    "#Final accuracy and details of the best model:\n",
    "score = estim.score( X_test, y_test )\n",
    "print(f'Accuracy of the best model: {score}')\n",
    "\n",
    "model = estim.best_model()\n",
    "print(f\"Details of the best model:\\n{model}\")"
   ]
  }
 ],
 "metadata": {
  "interpreter": {
   "hash": "0899f29de35f5ed9b0ff5f3db1e39d049872ef31466bf502f36935aade8a13fa"
  },
  "kernelspec": {
   "display_name": "Python 3.9.1 64-bit ('base': conda)",
   "language": "python",
   "name": "python3"
  },
  "language_info": {
   "codemirror_mode": {
    "name": "ipython",
    "version": 3
   },
   "file_extension": ".py",
   "mimetype": "text/x-python",
   "name": "python",
   "nbconvert_exporter": "python",
   "pygments_lexer": "ipython3",
   "version": "3.9.7"
  },
  "orig_nbformat": 4
 },
 "nbformat": 4,
 "nbformat_minor": 2
}
